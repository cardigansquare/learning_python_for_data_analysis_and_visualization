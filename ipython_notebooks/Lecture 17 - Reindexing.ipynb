{
 "cells": [
  {
   "cell_type": "code",
   "execution_count": 5,
   "metadata": {
    "collapsed": false
   },
   "outputs": [],
   "source": [
    "import numpy as np\n",
    "import pandas as pd\n",
    "from pandas import Series, DataFrame\n",
    "from numpy.random import randn"
   ]
  },
  {
   "cell_type": "code",
   "execution_count": 6,
   "metadata": {
    "collapsed": false
   },
   "outputs": [
    {
     "data": {
      "text/plain": [
       "A    1\n",
       "B    2\n",
       "C    3\n",
       "D    4\n",
       "dtype: int64"
      ]
     },
     "execution_count": 6,
     "metadata": {},
     "output_type": "execute_result"
    }
   ],
   "source": [
    "ser1 = Series([1,2,3,4],index=['A','B','C','D'])\n",
    "ser1"
   ]
  },
  {
   "cell_type": "code",
   "execution_count": 7,
   "metadata": {
    "collapsed": false
   },
   "outputs": [
    {
     "data": {
      "text/plain": [
       "A     1\n",
       "B     2\n",
       "C     3\n",
       "D     4\n",
       "E   NaN\n",
       "F   NaN\n",
       "dtype: float64"
      ]
     },
     "execution_count": 7,
     "metadata": {},
     "output_type": "execute_result"
    }
   ],
   "source": [
    "ser2 = ser1.reindex(['A','B','C','D','E','F'])\n",
    "ser2"
   ]
  },
  {
   "cell_type": "code",
   "execution_count": 8,
   "metadata": {
    "collapsed": false
   },
   "outputs": [
    {
     "data": {
      "text/plain": [
       "A     1\n",
       "B     2\n",
       "C     3\n",
       "D     4\n",
       "E   NaN\n",
       "F   NaN\n",
       "G     0\n",
       "dtype: float64"
      ]
     },
     "execution_count": 8,
     "metadata": {},
     "output_type": "execute_result"
    }
   ],
   "source": [
    "ser2.reindex(['A','B','C','D','E','F','G'],fill_value=0)"
   ]
  },
  {
   "cell_type": "code",
   "execution_count": 9,
   "metadata": {
    "collapsed": false
   },
   "outputs": [
    {
     "data": {
      "text/plain": [
       "0        USA\n",
       "5     Mexico\n",
       "10    Canada\n",
       "dtype: object"
      ]
     },
     "execution_count": 9,
     "metadata": {},
     "output_type": "execute_result"
    }
   ],
   "source": [
    "ser3 = Series(['USA','Mexico','Canada'],index=[0,5,10])\n",
    "ser3"
   ]
  },
  {
   "cell_type": "code",
   "execution_count": 10,
   "metadata": {
    "collapsed": false
   },
   "outputs": [
    {
     "data": {
      "text/plain": [
       "[0, 1, 2, 3, 4, 5, 6, 7, 8, 9, 10, 11, 12, 13, 14]"
      ]
     },
     "execution_count": 10,
     "metadata": {},
     "output_type": "execute_result"
    }
   ],
   "source": [
    "ranger = range(15)\n",
    "ranger"
   ]
  },
  {
   "cell_type": "code",
   "execution_count": 11,
   "metadata": {
    "collapsed": false
   },
   "outputs": [
    {
     "data": {
      "text/plain": [
       "0        USA\n",
       "1        USA\n",
       "2        USA\n",
       "3        USA\n",
       "4        USA\n",
       "5     Mexico\n",
       "6     Mexico\n",
       "7     Mexico\n",
       "8     Mexico\n",
       "9     Mexico\n",
       "10    Canada\n",
       "11    Canada\n",
       "12    Canada\n",
       "13    Canada\n",
       "14    Canada\n",
       "dtype: object"
      ]
     },
     "execution_count": 11,
     "metadata": {},
     "output_type": "execute_result"
    }
   ],
   "source": [
    "ser3.reindex(ranger,method='ffill') #forward fill"
   ]
  },
  {
   "cell_type": "code",
   "execution_count": 12,
   "metadata": {
    "collapsed": false
   },
   "outputs": [
    {
     "data": {
      "text/html": [
       "<div>\n",
       "<table border=\"1\" class=\"dataframe\">\n",
       "  <thead>\n",
       "    <tr style=\"text-align: right;\">\n",
       "      <th></th>\n",
       "      <th>col1</th>\n",
       "      <th>col2</th>\n",
       "      <th>col3</th>\n",
       "      <th>col4</th>\n",
       "      <th>col5</th>\n",
       "    </tr>\n",
       "  </thead>\n",
       "  <tbody>\n",
       "    <tr>\n",
       "      <th>A</th>\n",
       "      <td>-0.748842</td>\n",
       "      <td>0.134814</td>\n",
       "      <td>-0.148749</td>\n",
       "      <td>0.163574</td>\n",
       "      <td>-0.191167</td>\n",
       "    </tr>\n",
       "    <tr>\n",
       "      <th>B</th>\n",
       "      <td>0.330181</td>\n",
       "      <td>-0.200638</td>\n",
       "      <td>-1.014329</td>\n",
       "      <td>0.136313</td>\n",
       "      <td>2.204072</td>\n",
       "    </tr>\n",
       "    <tr>\n",
       "      <th>D</th>\n",
       "      <td>-1.421614</td>\n",
       "      <td>0.743498</td>\n",
       "      <td>-0.596578</td>\n",
       "      <td>-0.400025</td>\n",
       "      <td>-0.516597</td>\n",
       "    </tr>\n",
       "    <tr>\n",
       "      <th>E</th>\n",
       "      <td>0.712908</td>\n",
       "      <td>0.099376</td>\n",
       "      <td>0.590417</td>\n",
       "      <td>-0.464238</td>\n",
       "      <td>0.234036</td>\n",
       "    </tr>\n",
       "    <tr>\n",
       "      <th>F</th>\n",
       "      <td>0.484892</td>\n",
       "      <td>0.492355</td>\n",
       "      <td>0.356499</td>\n",
       "      <td>0.181761</td>\n",
       "      <td>-1.299770</td>\n",
       "    </tr>\n",
       "  </tbody>\n",
       "</table>\n",
       "</div>"
      ],
      "text/plain": [
       "       col1      col2      col3      col4      col5\n",
       "A -0.748842  0.134814 -0.148749  0.163574 -0.191167\n",
       "B  0.330181 -0.200638 -1.014329  0.136313  2.204072\n",
       "D -1.421614  0.743498 -0.596578 -0.400025 -0.516597\n",
       "E  0.712908  0.099376  0.590417 -0.464238  0.234036\n",
       "F  0.484892  0.492355  0.356499  0.181761 -1.299770"
      ]
     },
     "execution_count": 12,
     "metadata": {},
     "output_type": "execute_result"
    }
   ],
   "source": [
    "dframe = DataFrame(randn(25).reshape((5,5)),index=['A','B','D','E','F'],columns=['col1','col2','col3','col4','col5'])\n",
    "dframe"
   ]
  },
  {
   "cell_type": "code",
   "execution_count": 13,
   "metadata": {
    "collapsed": false
   },
   "outputs": [
    {
     "data": {
      "text/html": [
       "<div>\n",
       "<table border=\"1\" class=\"dataframe\">\n",
       "  <thead>\n",
       "    <tr style=\"text-align: right;\">\n",
       "      <th></th>\n",
       "      <th>col1</th>\n",
       "      <th>col2</th>\n",
       "      <th>col3</th>\n",
       "      <th>col4</th>\n",
       "      <th>col5</th>\n",
       "    </tr>\n",
       "  </thead>\n",
       "  <tbody>\n",
       "    <tr>\n",
       "      <th>A</th>\n",
       "      <td>-0.748842</td>\n",
       "      <td>0.134814</td>\n",
       "      <td>-0.148749</td>\n",
       "      <td>0.163574</td>\n",
       "      <td>-0.191167</td>\n",
       "    </tr>\n",
       "    <tr>\n",
       "      <th>B</th>\n",
       "      <td>0.330181</td>\n",
       "      <td>-0.200638</td>\n",
       "      <td>-1.014329</td>\n",
       "      <td>0.136313</td>\n",
       "      <td>2.204072</td>\n",
       "    </tr>\n",
       "    <tr>\n",
       "      <th>C</th>\n",
       "      <td>NaN</td>\n",
       "      <td>NaN</td>\n",
       "      <td>NaN</td>\n",
       "      <td>NaN</td>\n",
       "      <td>NaN</td>\n",
       "    </tr>\n",
       "    <tr>\n",
       "      <th>D</th>\n",
       "      <td>-1.421614</td>\n",
       "      <td>0.743498</td>\n",
       "      <td>-0.596578</td>\n",
       "      <td>-0.400025</td>\n",
       "      <td>-0.516597</td>\n",
       "    </tr>\n",
       "    <tr>\n",
       "      <th>E</th>\n",
       "      <td>0.712908</td>\n",
       "      <td>0.099376</td>\n",
       "      <td>0.590417</td>\n",
       "      <td>-0.464238</td>\n",
       "      <td>0.234036</td>\n",
       "    </tr>\n",
       "    <tr>\n",
       "      <th>F</th>\n",
       "      <td>0.484892</td>\n",
       "      <td>0.492355</td>\n",
       "      <td>0.356499</td>\n",
       "      <td>0.181761</td>\n",
       "      <td>-1.299770</td>\n",
       "    </tr>\n",
       "  </tbody>\n",
       "</table>\n",
       "</div>"
      ],
      "text/plain": [
       "       col1      col2      col3      col4      col5\n",
       "A -0.748842  0.134814 -0.148749  0.163574 -0.191167\n",
       "B  0.330181 -0.200638 -1.014329  0.136313  2.204072\n",
       "C       NaN       NaN       NaN       NaN       NaN\n",
       "D -1.421614  0.743498 -0.596578 -0.400025 -0.516597\n",
       "E  0.712908  0.099376  0.590417 -0.464238  0.234036\n",
       "F  0.484892  0.492355  0.356499  0.181761 -1.299770"
      ]
     },
     "execution_count": 13,
     "metadata": {},
     "output_type": "execute_result"
    }
   ],
   "source": [
    "dframe2 = dframe.reindex(['A','B','C','D','E','F'])\n",
    "dframe2"
   ]
  },
  {
   "cell_type": "code",
   "execution_count": 14,
   "metadata": {
    "collapsed": true
   },
   "outputs": [],
   "source": [
    "new_columns = ['col1','col2','col3','col4','col5','col6']"
   ]
  },
  {
   "cell_type": "code",
   "execution_count": 15,
   "metadata": {
    "collapsed": false
   },
   "outputs": [
    {
     "data": {
      "text/html": [
       "<div>\n",
       "<table border=\"1\" class=\"dataframe\">\n",
       "  <thead>\n",
       "    <tr style=\"text-align: right;\">\n",
       "      <th></th>\n",
       "      <th>col1</th>\n",
       "      <th>col2</th>\n",
       "      <th>col3</th>\n",
       "      <th>col4</th>\n",
       "      <th>col5</th>\n",
       "      <th>col6</th>\n",
       "    </tr>\n",
       "  </thead>\n",
       "  <tbody>\n",
       "    <tr>\n",
       "      <th>A</th>\n",
       "      <td>-0.748842</td>\n",
       "      <td>0.134814</td>\n",
       "      <td>-0.148749</td>\n",
       "      <td>0.163574</td>\n",
       "      <td>-0.191167</td>\n",
       "      <td>NaN</td>\n",
       "    </tr>\n",
       "    <tr>\n",
       "      <th>B</th>\n",
       "      <td>0.330181</td>\n",
       "      <td>-0.200638</td>\n",
       "      <td>-1.014329</td>\n",
       "      <td>0.136313</td>\n",
       "      <td>2.204072</td>\n",
       "      <td>NaN</td>\n",
       "    </tr>\n",
       "    <tr>\n",
       "      <th>C</th>\n",
       "      <td>NaN</td>\n",
       "      <td>NaN</td>\n",
       "      <td>NaN</td>\n",
       "      <td>NaN</td>\n",
       "      <td>NaN</td>\n",
       "      <td>NaN</td>\n",
       "    </tr>\n",
       "    <tr>\n",
       "      <th>D</th>\n",
       "      <td>-1.421614</td>\n",
       "      <td>0.743498</td>\n",
       "      <td>-0.596578</td>\n",
       "      <td>-0.400025</td>\n",
       "      <td>-0.516597</td>\n",
       "      <td>NaN</td>\n",
       "    </tr>\n",
       "    <tr>\n",
       "      <th>E</th>\n",
       "      <td>0.712908</td>\n",
       "      <td>0.099376</td>\n",
       "      <td>0.590417</td>\n",
       "      <td>-0.464238</td>\n",
       "      <td>0.234036</td>\n",
       "      <td>NaN</td>\n",
       "    </tr>\n",
       "    <tr>\n",
       "      <th>F</th>\n",
       "      <td>0.484892</td>\n",
       "      <td>0.492355</td>\n",
       "      <td>0.356499</td>\n",
       "      <td>0.181761</td>\n",
       "      <td>-1.299770</td>\n",
       "      <td>NaN</td>\n",
       "    </tr>\n",
       "  </tbody>\n",
       "</table>\n",
       "</div>"
      ],
      "text/plain": [
       "       col1      col2      col3      col4      col5  col6\n",
       "A -0.748842  0.134814 -0.148749  0.163574 -0.191167   NaN\n",
       "B  0.330181 -0.200638 -1.014329  0.136313  2.204072   NaN\n",
       "C       NaN       NaN       NaN       NaN       NaN   NaN\n",
       "D -1.421614  0.743498 -0.596578 -0.400025 -0.516597   NaN\n",
       "E  0.712908  0.099376  0.590417 -0.464238  0.234036   NaN\n",
       "F  0.484892  0.492355  0.356499  0.181761 -1.299770   NaN"
      ]
     },
     "execution_count": 15,
     "metadata": {},
     "output_type": "execute_result"
    }
   ],
   "source": [
    "dframe2.reindex(columns=new_columns)"
   ]
  },
  {
   "cell_type": "code",
   "execution_count": 16,
   "metadata": {
    "collapsed": false
   },
   "outputs": [
    {
     "data": {
      "text/html": [
       "<div>\n",
       "<table border=\"1\" class=\"dataframe\">\n",
       "  <thead>\n",
       "    <tr style=\"text-align: right;\">\n",
       "      <th></th>\n",
       "      <th>col1</th>\n",
       "      <th>col2</th>\n",
       "      <th>col3</th>\n",
       "      <th>col4</th>\n",
       "      <th>col5</th>\n",
       "    </tr>\n",
       "  </thead>\n",
       "  <tbody>\n",
       "    <tr>\n",
       "      <th>A</th>\n",
       "      <td>-0.748842</td>\n",
       "      <td>0.134814</td>\n",
       "      <td>-0.148749</td>\n",
       "      <td>0.163574</td>\n",
       "      <td>-0.191167</td>\n",
       "    </tr>\n",
       "    <tr>\n",
       "      <th>B</th>\n",
       "      <td>0.330181</td>\n",
       "      <td>-0.200638</td>\n",
       "      <td>-1.014329</td>\n",
       "      <td>0.136313</td>\n",
       "      <td>2.204072</td>\n",
       "    </tr>\n",
       "    <tr>\n",
       "      <th>D</th>\n",
       "      <td>-1.421614</td>\n",
       "      <td>0.743498</td>\n",
       "      <td>-0.596578</td>\n",
       "      <td>-0.400025</td>\n",
       "      <td>-0.516597</td>\n",
       "    </tr>\n",
       "    <tr>\n",
       "      <th>E</th>\n",
       "      <td>0.712908</td>\n",
       "      <td>0.099376</td>\n",
       "      <td>0.590417</td>\n",
       "      <td>-0.464238</td>\n",
       "      <td>0.234036</td>\n",
       "    </tr>\n",
       "    <tr>\n",
       "      <th>F</th>\n",
       "      <td>0.484892</td>\n",
       "      <td>0.492355</td>\n",
       "      <td>0.356499</td>\n",
       "      <td>0.181761</td>\n",
       "      <td>-1.299770</td>\n",
       "    </tr>\n",
       "  </tbody>\n",
       "</table>\n",
       "</div>"
      ],
      "text/plain": [
       "       col1      col2      col3      col4      col5\n",
       "A -0.748842  0.134814 -0.148749  0.163574 -0.191167\n",
       "B  0.330181 -0.200638 -1.014329  0.136313  2.204072\n",
       "D -1.421614  0.743498 -0.596578 -0.400025 -0.516597\n",
       "E  0.712908  0.099376  0.590417 -0.464238  0.234036\n",
       "F  0.484892  0.492355  0.356499  0.181761 -1.299770"
      ]
     },
     "execution_count": 16,
     "metadata": {},
     "output_type": "execute_result"
    }
   ],
   "source": [
    "dframe"
   ]
  },
  {
   "cell_type": "code",
   "execution_count": 17,
   "metadata": {
    "collapsed": false
   },
   "outputs": [
    {
     "data": {
      "text/html": [
       "<div>\n",
       "<table border=\"1\" class=\"dataframe\">\n",
       "  <thead>\n",
       "    <tr style=\"text-align: right;\">\n",
       "      <th></th>\n",
       "      <th>col1</th>\n",
       "      <th>col2</th>\n",
       "      <th>col3</th>\n",
       "      <th>col4</th>\n",
       "      <th>col5</th>\n",
       "      <th>col6</th>\n",
       "    </tr>\n",
       "  </thead>\n",
       "  <tbody>\n",
       "    <tr>\n",
       "      <th>A</th>\n",
       "      <td>-0.748842</td>\n",
       "      <td>0.134814</td>\n",
       "      <td>-0.148749</td>\n",
       "      <td>0.163574</td>\n",
       "      <td>-0.191167</td>\n",
       "      <td>NaN</td>\n",
       "    </tr>\n",
       "    <tr>\n",
       "      <th>B</th>\n",
       "      <td>0.330181</td>\n",
       "      <td>-0.200638</td>\n",
       "      <td>-1.014329</td>\n",
       "      <td>0.136313</td>\n",
       "      <td>2.204072</td>\n",
       "      <td>NaN</td>\n",
       "    </tr>\n",
       "    <tr>\n",
       "      <th>C</th>\n",
       "      <td>NaN</td>\n",
       "      <td>NaN</td>\n",
       "      <td>NaN</td>\n",
       "      <td>NaN</td>\n",
       "      <td>NaN</td>\n",
       "      <td>NaN</td>\n",
       "    </tr>\n",
       "    <tr>\n",
       "      <th>D</th>\n",
       "      <td>-1.421614</td>\n",
       "      <td>0.743498</td>\n",
       "      <td>-0.596578</td>\n",
       "      <td>-0.400025</td>\n",
       "      <td>-0.516597</td>\n",
       "      <td>NaN</td>\n",
       "    </tr>\n",
       "    <tr>\n",
       "      <th>E</th>\n",
       "      <td>0.712908</td>\n",
       "      <td>0.099376</td>\n",
       "      <td>0.590417</td>\n",
       "      <td>-0.464238</td>\n",
       "      <td>0.234036</td>\n",
       "      <td>NaN</td>\n",
       "    </tr>\n",
       "    <tr>\n",
       "      <th>F</th>\n",
       "      <td>0.484892</td>\n",
       "      <td>0.492355</td>\n",
       "      <td>0.356499</td>\n",
       "      <td>0.181761</td>\n",
       "      <td>-1.299770</td>\n",
       "      <td>NaN</td>\n",
       "    </tr>\n",
       "  </tbody>\n",
       "</table>\n",
       "</div>"
      ],
      "text/plain": [
       "       col1      col2      col3      col4      col5  col6\n",
       "A -0.748842  0.134814 -0.148749  0.163574 -0.191167   NaN\n",
       "B  0.330181 -0.200638 -1.014329  0.136313  2.204072   NaN\n",
       "C       NaN       NaN       NaN       NaN       NaN   NaN\n",
       "D -1.421614  0.743498 -0.596578 -0.400025 -0.516597   NaN\n",
       "E  0.712908  0.099376  0.590417 -0.464238  0.234036   NaN\n",
       "F  0.484892  0.492355  0.356499  0.181761 -1.299770   NaN"
      ]
     },
     "execution_count": 17,
     "metadata": {},
     "output_type": "execute_result"
    }
   ],
   "source": [
    "dframe.ix[['A','B','C','D','E','F'],new_columns]"
   ]
  },
  {
   "cell_type": "code",
   "execution_count": null,
   "metadata": {
    "collapsed": true
   },
   "outputs": [],
   "source": []
  }
 ],
 "metadata": {
  "kernelspec": {
   "display_name": "Python 2",
   "language": "python",
   "name": "python2"
  },
  "language_info": {
   "codemirror_mode": {
    "name": "ipython",
    "version": 2
   },
   "file_extension": ".py",
   "mimetype": "text/x-python",
   "name": "python",
   "nbconvert_exporter": "python",
   "pygments_lexer": "ipython2",
   "version": "2.7.10"
  }
 },
 "nbformat": 4,
 "nbformat_minor": 0
}
